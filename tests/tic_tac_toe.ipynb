{
 "cells": [
  {
   "cell_type": "markdown",
   "metadata": {},
   "source": [
    "Mini-projet – Tic Tac Toe\n",
    "=========================\n",
    "Le but de ce projet est d'écrire une version du jeu\n",
    "Tic Tac Toe dans laquelle deux joueurs humains\n",
    "s'affrontent. Une liste de listes grille donne l'état\n",
    "de la grille de jeu à tout instant.\n",
    "Par exemple, à la grille ci-dessous :\n",
    "```\n",
    "X|O|X\n",
    " |X|O\n",
    "O| |\n",
    "```\n",
    "correspond la liste de listes suivante :"
   ]
  },
  {
   "cell_type": "code",
   "execution_count": 1,
   "metadata": {},
   "outputs": [],
   "source": [
    "grille_test = [\n",
    " ['X', 'O', 'X'],\n",
    " [' ', 'X', 'O'],\n",
    " ['O', ' ', ' ']\n",
    "]\n"
   ]
  },
  {
   "cell_type": "markdown",
   "metadata": {},
   "source": [
    "Noter qu'à chaque case vide correspond la chaîne de caractères\n",
    "``' '`` (et non la chaîne de caractères vide ``''``).\n",
    "Pour simplifier, à chaque tour de jeu, le joueur choisit l'endroit\n",
    "où placer son « jeton » ('X' ou 'O') en entrant un chiffre qui correspond\n",
    "à une position sur la grille :"
   ]
  },
  {
   "cell_type": "code",
   "execution_count": 2,
   "metadata": {},
   "outputs": [],
   "source": [
    "positions = [\n",
    "    [0,1,2],\n",
    "    [3,4,5],\n",
    "    [6,7,8]\n",
    "    ]\n"
   ]
  },
  {
   "cell_type": "markdown",
   "metadata": {},
   "source": [
    "Question 1\n",
    "----------\n",
    "Définir trois grilles tests :"
   ]
  },
  {
   "cell_type": "code",
   "execution_count": 3,
   "metadata": {},
   "outputs": [],
   "source": [
    "# une grille avec une ligne gagnante:\n",
    "grille_test_ligne = [\n",
    "]\n",
    "\n",
    "# une grille avec une colonne gagnante:\n",
    "grille_test_colonne = [\n",
    "]\n",
    "\n",
    "# une grille avec une diagonale gagnante:\n",
    "grille_test_diagonale = [\n",
    "]\n"
   ]
  },
  {
   "cell_type": "markdown",
   "metadata": {},
   "source": [
    "Question 2\n",
    "----------\n",
    "Compléter la fonction"
   ]
  },
  {
   "cell_type": "code",
   "execution_count": 4,
   "metadata": {},
   "outputs": [],
   "source": [
    "def afficher_grille(grille):\n",
    "    \"\"\"prend en paramètre une liste de listes représentant une grille, et qui\n",
    "    l'affiche comme précisé dans l'introduction du projet.\n",
    "    \"\"\"\n",
    "    pass #à modifier\n"
   ]
  },
  {
   "cell_type": "markdown",
   "metadata": {},
   "source": [
    "décommenter ces lignes pour tester votre fonction"
   ]
  },
  {
   "cell_type": "code",
   "execution_count": 5,
   "metadata": {},
   "outputs": [],
   "source": [
    "# afficher_grille(grille_test)\n",
    "# afficher_grille(grille_test_ligne)\n",
    "# afficher_grille(grille_test_colonne)\n",
    "# afficher_grille(grille_test_diagonale)"
   ]
  },
  {
   "cell_type": "markdown",
   "metadata": {},
   "source": [
    "recommenter les quand vous jugez que ça marche."
   ]
  },
  {
   "cell_type": "markdown",
   "metadata": {},
   "source": [
    "Question 3\n",
    "----------\n",
    "Compléter la fonction"
   ]
  },
  {
   "cell_type": "code",
   "execution_count": 6,
   "metadata": {},
   "outputs": [],
   "source": [
    "def verifier_lignes(grille):\n",
    "    \"\"\"prend en paramètre une liste de listes représentant une grille, et vérifie si\n",
    "    cette grille contient une ligne gagnante. La fonction renvoie 'X'\n",
    "    (resp. 'O') si la grille contient une ligne gagnante avec des 'X' (resp. des\n",
    "    'O'), et ' ' si aucune ligne n'est gagnante.\n",
    "    \"\"\"\n",
    "    pass #à modifier\n"
   ]
  },
  {
   "cell_type": "markdown",
   "metadata": {},
   "source": [
    "décommenter ces lignes pour tester votre function, laissez les décommentées\n",
    "Vous devrez peut-être les changer."
   ]
  },
  {
   "cell_type": "code",
   "execution_count": 7,
   "metadata": {},
   "outputs": [
    {
     "ename": "AssertionError",
     "evalue": "",
     "output_type": "error",
     "traceback": [
      "\u001b[0;31m---------------------------------------------------------------------------\u001b[0m",
      "\u001b[0;31mAssertionError\u001b[0m                            Traceback (most recent call last)",
      "\u001b[0;32m<ipython-input-7-6756c48b40fd>\u001b[0m in \u001b[0;36m<module>\u001b[0;34m\u001b[0m\n\u001b[0;32m----> 1\u001b[0;31m \u001b[0;32massert\u001b[0m\u001b[0;34m(\u001b[0m\u001b[0mverifier_lignes\u001b[0m\u001b[0;34m(\u001b[0m\u001b[0mgrille_test\u001b[0m\u001b[0;34m)\u001b[0m           \u001b[0;34m==\u001b[0m \u001b[0;34m' '\u001b[0m\u001b[0;34m)\u001b[0m\u001b[0;34m\u001b[0m\u001b[0;34m\u001b[0m\u001b[0m\n\u001b[0m\u001b[1;32m      2\u001b[0m \u001b[0;32massert\u001b[0m\u001b[0;34m(\u001b[0m\u001b[0mverifier_lignes\u001b[0m\u001b[0;34m(\u001b[0m\u001b[0mgrille_test_ligne\u001b[0m\u001b[0;34m)\u001b[0m     \u001b[0;34m==\u001b[0m \u001b[0;34m'X'\u001b[0m\u001b[0;34m)\u001b[0m\u001b[0;34m\u001b[0m\u001b[0;34m\u001b[0m\u001b[0m\n\u001b[1;32m      3\u001b[0m \u001b[0;32massert\u001b[0m\u001b[0;34m(\u001b[0m\u001b[0mverifier_lignes\u001b[0m\u001b[0;34m(\u001b[0m\u001b[0mgrille_test_colonne\u001b[0m\u001b[0;34m)\u001b[0m   \u001b[0;34m==\u001b[0m \u001b[0;34m' '\u001b[0m\u001b[0;34m)\u001b[0m\u001b[0;34m\u001b[0m\u001b[0;34m\u001b[0m\u001b[0m\n\u001b[1;32m      4\u001b[0m \u001b[0;32massert\u001b[0m\u001b[0;34m(\u001b[0m\u001b[0mverifier_lignes\u001b[0m\u001b[0;34m(\u001b[0m\u001b[0mgrille_test_diagonale\u001b[0m\u001b[0;34m)\u001b[0m \u001b[0;34m==\u001b[0m \u001b[0;34m' '\u001b[0m\u001b[0;34m)\u001b[0m\u001b[0;34m\u001b[0m\u001b[0;34m\u001b[0m\u001b[0m\n",
      "\u001b[0;31mAssertionError\u001b[0m: "
     ]
    }
   ],
   "source": [
    "assert(verifier_lignes(grille_test)           == ' ')\n",
    "assert(verifier_lignes(grille_test_ligne)     == 'X')\n",
    "assert(verifier_lignes(grille_test_colonne)   == ' ')\n",
    "assert(verifier_lignes(grille_test_diagonale) == ' ')\n"
   ]
  },
  {
   "cell_type": "markdown",
   "metadata": {},
   "source": [
    "Question 4\n",
    "----------\n",
    "Compléter la fonction"
   ]
  },
  {
   "cell_type": "code",
   "execution_count": null,
   "metadata": {},
   "outputs": [],
   "source": [
    "def verifier_colonnes(grille):\n",
    "    \"\"\"prend en paramètre une liste de listes représentant\n",
    "    une grille, et vérifie si cette grille contient une colonne gagnante. La fonction renvoie 'X'\n",
    "    (resp. 'O') si la grille contient une ligne gagnante avec des 'X' (resp. des 'O'), et ' '\n",
    "    si aucune ligne n'est gagnante.\"\"\"\n",
    "    pass #à modifier\n"
   ]
  },
  {
   "cell_type": "markdown",
   "metadata": {},
   "source": [
    "décommenter ces lignes pour tester votre function, laissez les décommentées\n",
    "Vous devrez peut-être les changer."
   ]
  },
  {
   "cell_type": "code",
   "execution_count": null,
   "metadata": {},
   "outputs": [],
   "source": [
    "assert(verifier_colonnes(grille_test)           == ' ')\n",
    "assert(verifier_colonnes(grille_test_ligne)     == ' ')\n",
    "assert(verifier_colonnes(grille_test_colonne)   == 'O')\n",
    "assert(verifier_colonnes(grille_test_diagonale) == ' ')\n"
   ]
  },
  {
   "cell_type": "markdown",
   "metadata": {},
   "source": [
    "Question 5\n",
    "----------\n",
    "Compléter la fonction"
   ]
  },
  {
   "cell_type": "code",
   "execution_count": null,
   "metadata": {},
   "outputs": [],
   "source": [
    "def verifier_diagonales(grille):\n",
    "    \"\"\"prend en paramètre une liste de listes représentant\n",
    "    une grille, et vérifie si cette grille contient une diagonale gagnante. La fonction renvoie 'X'\n",
    "    (resp. 'O') si la grille contient une ligne gagnante avec des 'X' (resp. des 'O'), et ' '\n",
    "    si aucune ligne n'est gagnante.\"\"\"\n",
    "    pass #à modifier\n"
   ]
  },
  {
   "cell_type": "markdown",
   "metadata": {},
   "source": [
    "décommenter ces lignes pour tester votre function, laissez les décommentées\n",
    "Vous devrez peut-être les changer."
   ]
  },
  {
   "cell_type": "code",
   "execution_count": null,
   "metadata": {},
   "outputs": [],
   "source": [
    "assert(verifier_diagonales(grille_test)           == ' ')\n",
    "assert(verifier_diagonales(grille_test_ligne)     == ' ')\n",
    "assert(verifier_diagonales(grille_test_colonne)   == ' ')\n",
    "assert(verifier_diagonales(grille_test_diagonale) == 'X')\n"
   ]
  },
  {
   "cell_type": "markdown",
   "metadata": {},
   "source": [
    "Question 6\n",
    "----------"
   ]
  },
  {
   "cell_type": "code",
   "execution_count": null,
   "metadata": {},
   "outputs": [],
   "source": [
    "def verifier_alignement(grille):\n",
    "    \"\"\"prend en paramètre une liste de listes représentant\n",
    "    une grille, et vérifie si cette grille contient une ligne,\n",
    "    une colonne ou une diagonale gagnante. La fonction renvoie 'X'\n",
    "    (resp. 'O') si la grille contient une ligne gagnante avec des 'X' (resp. des 'O'), et ' '\n",
    "    si aucune ligne n'est gagnante.\"\"\"\n",
    "    pass #à modifier\n"
   ]
  },
  {
   "cell_type": "markdown",
   "metadata": {},
   "source": [
    "décommenter ces lignes pour tester votre function, laissez les décommentées\n",
    "Vous devrez peut-être les changer."
   ]
  },
  {
   "cell_type": "code",
   "execution_count": null,
   "metadata": {},
   "outputs": [],
   "source": [
    "assert(verifier_alignement(grille_test)           == ' ')\n",
    "assert(verifier_alignement(grille_test_ligne)     == 'X')\n",
    "assert(verifier_alignement(grille_test_colonne)   == 'O')\n",
    "assert(verifier_alignement(grille_test_diagonale) == 'X')\n"
   ]
  },
  {
   "cell_type": "markdown",
   "metadata": {},
   "source": [
    "Question 7\n",
    "----------\n",
    "On supposera ici que le coup est valide"
   ]
  },
  {
   "cell_type": "code",
   "execution_count": null,
   "metadata": {},
   "outputs": [],
   "source": [
    "def joue_coup(joueur,position,grille):\n",
    "    \"\"\"procédure qui prend en paramètre :\n",
    "    - un joueur ('X' ou 'O') ;\n",
    "    - une position (un chiffre de 0 à 8) ;\n",
    "    - une grille (une liste de listes), et qui «joue» le coup correspondant.\n",
    "      en modifiant la grille\"\"\"\n",
    "    pass #à modifier"
   ]
  },
  {
   "cell_type": "markdown",
   "metadata": {},
   "source": [
    "n'oubliez pas de tester votre fonction."
   ]
  },
  {
   "cell_type": "code",
   "execution_count": null,
   "metadata": {},
   "outputs": [],
   "source": [
    "# print(grille_test)"
   ]
  },
  {
   "cell_type": "markdown",
   "metadata": {},
   "source": [
    "Question 8\n",
    "----------\n",
    "Finissez le jeu en complétant ce qui suit"
   ]
  },
  {
   "cell_type": "code",
   "execution_count": null,
   "metadata": {},
   "outputs": [],
   "source": [
    "# Initialisation de la grille (vide)"
   ]
  }
 ],
 "metadata": {
  "kernelspec": {
   "display_name": "Python 3",
   "language": "python",
   "name": "python3"
  },
  "language_info": {
   "codemirror_mode": {
    "name": "ipython",
    "version": 3
   },
   "file_extension": ".py",
   "mimetype": "text/x-python",
   "name": "python",
   "nbconvert_exporter": "python",
   "pygments_lexer": "ipython3",
   "version": "3.9.2"
  }
 },
 "nbformat": 4,
 "nbformat_minor": 2
}
